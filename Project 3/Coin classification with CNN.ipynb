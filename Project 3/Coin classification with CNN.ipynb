{
 "cells": [
  {
   "cell_type": "markdown",
   "id": "463cfd51",
   "metadata": {},
   "source": [
    "## Join and resize images"
   ]
  },
  {
   "cell_type": "code",
   "execution_count": null,
   "id": "ac136b94",
   "metadata": {},
   "outputs": [],
   "source": [
    "#Paths\n",
    "path1=\"Dataset1/\"\n",
    "path2=\"Dataset2/\"\n",
    "path2=\"DatasetJoin/\""
   ]
  },
  {
   "cell_type": "code",
   "execution_count": null,
   "id": "c6736791",
   "metadata": {},
   "outputs": [],
   "source": [
    "#Function that read all the images form the join directory\n",
    "def read_all(path1, path2, path3):\n",
    "    \n",
    "    #Load, normalize and reshape\n",
    "    romanImages = os.listdir(path1)\n",
    "    romanImages = [file for file in romanImages if file.endswith(\".png\")]\n",
    "    otherImages = os.listdir(path2)\n",
    "    otherImages = [file for file in otherImages if file.endswith(\".png\")]\n",
    "    \n",
    "    for i, file in enumerate(romanImages):\n",
    "        \n",
    "        print (f\"Adding file {i}/{len(images)}\")\n",
    "        image = cv2.imread(path1+file, -1)\n",
    "\n",
    "        # Resize to desired size and normalize\n",
    "        img = cv2.resize(img,(imageSize,imageSize))\n",
    "        \n",
    "        cv2.imwrite(roman_path+file[:-4]+\"_90.png\",img)"
   ]
  }
 ],
 "metadata": {
  "kernelspec": {
   "display_name": "Python 3 (ipykernel)",
   "language": "python",
   "name": "python3"
  },
  "language_info": {
   "codemirror_mode": {
    "name": "ipython",
    "version": 3
   },
   "file_extension": ".py",
   "mimetype": "text/x-python",
   "name": "python",
   "nbconvert_exporter": "python",
   "pygments_lexer": "ipython3",
   "version": "3.11.4"
  }
 },
 "nbformat": 4,
 "nbformat_minor": 5
}
